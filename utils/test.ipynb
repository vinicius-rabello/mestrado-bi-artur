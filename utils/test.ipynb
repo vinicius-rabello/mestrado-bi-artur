{
 "cells": [
  {
   "cell_type": "code",
   "execution_count": 3,
   "metadata": {},
   "outputs": [],
   "source": [
    "import pandas as pd\n",
    "\n",
    "df = pd.read_excel('../database/tables/Censo38_corrigido.xlsx')"
   ]
  },
  {
   "cell_type": "code",
   "execution_count": 14,
   "metadata": {},
   "outputs": [],
   "source": [
    "def create_id(row):\n",
    "    id_fogo = row['ID Fogo']\n",
    "    num = row['Número']\n",
    "    return str(id_fogo) + str(num)"
   ]
  },
  {
   "cell_type": "code",
   "execution_count": 18,
   "metadata": {},
   "outputs": [
    {
     "name": "stdout",
     "output_type": "stream",
     "text": [
      "1010100011\n"
     ]
    }
   ],
   "source": [
    "id_column = []\n",
    "for _, row in df.iterrows():\n",
    "    row = create_id(row)\n",
    "    break"
   ]
  },
  {
   "cell_type": "code",
   "execution_count": 16,
   "metadata": {},
   "outputs": [
    {
     "data": {
      "text/html": [
       "<div>\n",
       "<style scoped>\n",
       "    .dataframe tbody tr th:only-of-type {\n",
       "        vertical-align: middle;\n",
       "    }\n",
       "\n",
       "    .dataframe tbody tr th {\n",
       "        vertical-align: top;\n",
       "    }\n",
       "\n",
       "    .dataframe thead th {\n",
       "        text-align: right;\n",
       "    }\n",
       "</style>\n",
       "<table border=\"1\" class=\"dataframe\">\n",
       "  <thead>\n",
       "    <tr style=\"text-align: right;\">\n",
       "      <th></th>\n",
       "      <th>Dia</th>\n",
       "      <th>Mês</th>\n",
       "      <th>Ano</th>\n",
       "      <th>Pasta</th>\n",
       "      <th>Doc</th>\n",
       "      <th>Município</th>\n",
       "      <th>Distrito</th>\n",
       "      <th>Quart</th>\n",
       "      <th>CodTipo</th>\n",
       "      <th>ID Fogo</th>\n",
       "      <th>...</th>\n",
       "      <th>Relação</th>\n",
       "      <th>Sexo</th>\n",
       "      <th>Raça</th>\n",
       "      <th>Condição</th>\n",
       "      <th>Idade</th>\n",
       "      <th>Est civil</th>\n",
       "      <th>Alfab</th>\n",
       "      <th>Nac</th>\n",
       "      <th>Ocup</th>\n",
       "      <th>Nome</th>\n",
       "    </tr>\n",
       "  </thead>\n",
       "  <tbody>\n",
       "    <tr>\n",
       "      <th>0</th>\n",
       "      <td>0</td>\n",
       "      <td>0</td>\n",
       "      <td>38</td>\n",
       "      <td>20</td>\n",
       "      <td>1</td>\n",
       "      <td>Aiuruoca</td>\n",
       "      <td>Cabeceiras do Rio Grande e Vertentes do Rio Preto</td>\n",
       "      <td>1</td>\n",
       "      <td>0.0</td>\n",
       "      <td>101010001</td>\n",
       "      <td>...</td>\n",
       "      <td>0</td>\n",
       "      <td>1</td>\n",
       "      <td>1</td>\n",
       "      <td>1</td>\n",
       "      <td>25</td>\n",
       "      <td>1</td>\n",
       "      <td>0</td>\n",
       "      <td>5</td>\n",
       "      <td>141.0</td>\n",
       "      <td>Francisco Antônio de Carvalho</td>\n",
       "    </tr>\n",
       "  </tbody>\n",
       "</table>\n",
       "<p>1 rows × 22 columns</p>\n",
       "</div>"
      ],
      "text/plain": [
       "   Dia  Mês  Ano  Pasta  Doc Município  \\\n",
       "0    0    0   38     20    1  Aiuruoca   \n",
       "\n",
       "                                            Distrito  Quart  CodTipo  \\\n",
       "0  Cabeceiras do Rio Grande e Vertentes do Rio Preto      1      0.0   \n",
       "\n",
       "     ID Fogo  ...  Relação  Sexo  Raça  Condição  Idade  Est civil  Alfab  \\\n",
       "0  101010001  ...        0     1     1         1     25          1      0   \n",
       "\n",
       "   Nac   Ocup                           Nome  \n",
       "0    5  141.0  Francisco Antônio de Carvalho  \n",
       "\n",
       "[1 rows x 22 columns]"
      ]
     },
     "execution_count": 16,
     "metadata": {},
     "output_type": "execute_result"
    }
   ],
   "source": [
    "df.head(1)"
   ]
  },
  {
   "cell_type": "code",
   "execution_count": null,
   "metadata": {},
   "outputs": [],
   "source": []
  }
 ],
 "metadata": {
  "kernelspec": {
   "display_name": "Python 3",
   "language": "python",
   "name": "python3"
  },
  "language_info": {
   "codemirror_mode": {
    "name": "ipython",
    "version": 3
   },
   "file_extension": ".py",
   "mimetype": "text/x-python",
   "name": "python",
   "nbconvert_exporter": "python",
   "pygments_lexer": "ipython3",
   "version": "3.12.3"
  }
 },
 "nbformat": 4,
 "nbformat_minor": 2
}
