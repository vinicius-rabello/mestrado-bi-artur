{
 "cells": [
  {
   "cell_type": "code",
   "execution_count": 1,
   "metadata": {},
   "outputs": [],
   "source": [
    "import pandas as pd"
   ]
  },
  {
   "cell_type": "code",
   "execution_count": 2,
   "metadata": {},
   "outputs": [],
   "source": [
    "df = pd.read_excel('../database/tables/Censo31_escravizados.xlsx')"
   ]
  },
  {
   "cell_type": "code",
   "execution_count": 3,
   "metadata": {},
   "outputs": [],
   "source": [
    "dict_nacionalidades = {\n",
    "    'brasileiro': 'brasileiro',  # Brasil\n",
    "    'congo': 'africano',         # República do Congo\n",
    "    'cabinda': 'africano',       # Cabinda (região de Angola)\n",
    "    'cassange': 'africano',      # Cassange (província de Angola)\n",
    "    'benguela': 'africano',      # Benguela (província de Angola)\n",
    "    'moçambique': 'africano',    # Moçambique\n",
    "    'luanda': 'africano',        # Luanda (capital de Angola)\n",
    "    'monjolo': 'africano',       # Monjolo (província de Angola)\n",
    "    'angola': 'africano',        # Angola\n",
    "    'ganguela': 'africano',      # Ganguela (província de Angola)\n",
    "    'rebolo': 'africano',        # Rebolo (província de Angola)\n",
    "    'mina': 'africano',          # Mina (província de Angola)\n",
    "    'estrangeiro': 'estrangeiro',# Desconhecido\n",
    "    'nagô': 'africano',          # Nagô (grupo étnico de Angola)\n",
    "    'mofumbé': 'africano',       # Mofumbé (província de Angola)\n",
    "    'são tomé': 'africano',      # São Tomé e Príncipe\n",
    "    'alemão': 'europeu',         # Alemanha\n",
    "    'suiço': 'europeu',          # Suíça\n",
    "    'francês': 'europeu',        # França\n",
    "    'inglês': 'europeu',         # Inglaterra\n",
    "    'costa': 'africano',         # Costa (província de Angola)\n",
    "    'malê': 'africano',          # Malê (grupo étnico do Benim)\n",
    "    'português': 'europeu',      # Portugal\n",
    "    'guiné': 'africano',         # Guiné (país da África Ocidental)\n",
    "    'cacunda': 'africano',       # Cacunda (província de Angola)\n",
    "    'songo': 'africano',         # Songo (província de Angola)\n",
    "    'quissamã': 'africano',      # Quissamã (província de Angola)\n",
    "    'tapa': 'africano',          # Tapa (província de Angola)\n",
    "    'bamba': 'africano',         # Bamba (província de Angola)\n",
    "    'nação': 'nação',            # Desconhecido\n",
    "    'europeu': 'europeu',        # Europeu (genérico)\n",
    "    'inhambassa': 'africano',    # Inhambassa (província de Moçambique)\n",
    "    'mansangano': 'africano',    # Mansangano (província de Angola)\n",
    "    'polonês': 'europeu',        # Polônia\n",
    "    'gangorra': 'africano',      # Gangorra (província de Angola)\n",
    "    'chinês': 'asiático',        # China\n",
    "    'norte-americano': 'americano', # Estados Unidos da América\n",
    "    'austríaco': 'europeu',      # Áustria\n",
    "    'dinamarquês': 'europeu',    # Dinamarca\n",
    "    'espanhol': 'europeu',       # Espanha\n",
    "    'angolano': 'africano',\n",
    "    'africano': 'africano'\n",
    "}\n"
   ]
  },
  {
   "cell_type": "code",
   "execution_count": 4,
   "metadata": {},
   "outputs": [],
   "source": [
    "df['Nac'] = df['Nac'].map(dict_nacionalidades)"
   ]
  },
  {
   "cell_type": "code",
   "execution_count": 5,
   "metadata": {},
   "outputs": [
    {
     "data": {
      "text/plain": [
       "Nac\n",
       "brasileiro     126738\n",
       "africano        14393\n",
       "nação            1415\n",
       "estrangeiro        11\n",
       "Name: count, dtype: int64"
      ]
     },
     "execution_count": 5,
     "metadata": {},
     "output_type": "execute_result"
    }
   ],
   "source": [
    "df[df['Condição'] == 'escravo']['Nac'].value_counts()"
   ]
  },
  {
   "cell_type": "code",
   "execution_count": 6,
   "metadata": {},
   "outputs": [],
   "source": [
    "df.to_excel('../database/tables/Censo31_escravizados.xlsx', index=False)"
   ]
  },
  {
   "cell_type": "code",
   "execution_count": null,
   "metadata": {},
   "outputs": [],
   "source": []
  }
 ],
 "metadata": {
  "kernelspec": {
   "display_name": "Python 3",
   "language": "python",
   "name": "python3"
  },
  "language_info": {
   "codemirror_mode": {
    "name": "ipython",
    "version": 3
   },
   "file_extension": ".py",
   "mimetype": "text/x-python",
   "name": "python",
   "nbconvert_exporter": "python",
   "pygments_lexer": "ipython3",
   "version": "3.12.3"
  }
 },
 "nbformat": 4,
 "nbformat_minor": 2
}
